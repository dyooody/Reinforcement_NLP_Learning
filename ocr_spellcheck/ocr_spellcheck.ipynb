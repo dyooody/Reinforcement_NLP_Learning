{
 "cells": [
  {
   "cell_type": "code",
   "execution_count": 28,
   "metadata": {},
   "outputs": [],
   "source": [
    "import cv2\n",
    "from PIL import Image\n",
    "\n",
    "import nltk\n",
    "import re\n",
    "from textblob import Word"
   ]
  },
  {
   "cell_type": "code",
   "execution_count": 29,
   "metadata": {},
   "outputs": [],
   "source": [
    "import pytesseract\n",
    "\n",
    "pytesseract.pytesseract.tesseract_cmd = 'C:/Program Files/Tesseract-OCR/tesseract.exe'"
   ]
  },
  {
   "cell_type": "code",
   "execution_count": 62,
   "metadata": {},
   "outputs": [],
   "source": [
    "#test_image = cv2.imread(\"test-image-for-recognition.png\")\n",
    "test_image = cv2.imread(\"incorrect2.png\")\n",
    "#test_image = cv2.imread(\"flight.JPG\")"
   ]
  },
  {
   "cell_type": "code",
   "execution_count": 63,
   "metadata": {},
   "outputs": [],
   "source": [
    "extracted_string = pytesseract.image_to_string(test_image)"
   ]
  },
  {
   "cell_type": "code",
   "execution_count": 64,
   "metadata": {},
   "outputs": [
    {
     "name": "stdout",
     "output_type": "stream",
     "text": [
      "The page less formet allows you to add wiide images and tables, and view dacuments without\n",
      "the interuption of page breaks. You can change the formet for any of your documants from file\n",
      "page setup.\n",
      "\n",
      "\n"
     ]
    }
   ],
   "source": [
    "print(extracted_string)"
   ]
  },
  {
   "cell_type": "code",
   "execution_count": 65,
   "metadata": {},
   "outputs": [],
   "source": [
    "TAG_RE = re.compile(r'<[^>]+>')\n",
    "\n",
    "def remove_tags(text):\n",
    "    return TAG_RE.sub('', text)\n",
    "\n",
    "def preprocess_text(sen):\n",
    "  # Removing html tags\n",
    "  sentence = remove_tags(sen)\n",
    "  # Remove punctuations and numbers\n",
    "  sentence = re.sub('[^a-zA-Z]', ' ', sentence)\n",
    "  # Single character removal\n",
    "  sentence = re.sub(r\"\\s+[a-zA-Z]\\s+\", ' ', sentence)\n",
    "  # Removing multiple spaces\n",
    "  sentence = re.sub(r'\\s+', ' ', sentence)\n",
    "  return sentence"
   ]
  },
  {
   "cell_type": "code",
   "execution_count": 66,
   "metadata": {},
   "outputs": [],
   "source": [
    "def spell_check(word):\n",
    "  word = Word(word)\n",
    "  result = word.spellcheck()\n",
    "  \n",
    "  if word == result[0][0]:\n",
    "    return word, True\n",
    "  else:\n",
    "    return result[0][0], False"
   ]
  },
  {
   "cell_type": "code",
   "execution_count": 67,
   "metadata": {},
   "outputs": [],
   "source": [
    "def spell_check_for_sentence(extracted_string):\n",
    "  extracted_string = preprocess_text(extracted_string)\n",
    "  sentence = extracted_string.split(\" \")\n",
    "  sentence = [word.lower() for word in sentence]\n",
    "  \n",
    "  checked = []\n",
    "  mis_spelled = []\n",
    "  for word in sentence:\n",
    "    if word != '':\n",
    "      w, val = spell_check(word)\n",
    "      checked.append(w)\n",
    "      if val == False:\n",
    "        mis_spelled.append(word)\n",
    "\n",
    "  \n",
    "  checked_sentence = ' '.join(checked)\n",
    "  return checked_sentence, mis_spelled"
   ]
  },
  {
   "cell_type": "code",
   "execution_count": 68,
   "metadata": {},
   "outputs": [],
   "source": [
    "final_sen, mis_spelled = spell_check_for_sentence(extracted_string)"
   ]
  },
  {
   "cell_type": "code",
   "execution_count": 69,
   "metadata": {},
   "outputs": [
    {
     "name": "stdout",
     "output_type": "stream",
     "text": [
      "the page less formed allows you to add wide images and tables and view documents without the interruption of page breaks you can change the formed for any of your documents from file page set\n",
      "['formet', 'wiide', 'dacuments', 'interuption', 'formet', 'documants', 'setup']\n"
     ]
    }
   ],
   "source": [
    "print(final_sen)\n",
    "\n",
    "print(mis_spelled)"
   ]
  }
 ],
 "metadata": {
  "kernelspec": {
   "display_name": "Python 3.7.9 64-bit",
   "language": "python",
   "name": "python3"
  },
  "language_info": {
   "codemirror_mode": {
    "name": "ipython",
    "version": 3
   },
   "file_extension": ".py",
   "mimetype": "text/x-python",
   "name": "python",
   "nbconvert_exporter": "python",
   "pygments_lexer": "ipython3",
   "version": "3.7.9"
  },
  "orig_nbformat": 4,
  "vscode": {
   "interpreter": {
    "hash": "76ab9860aa67bcbf622fdb102e63207459bbb25b20412deafaf9e196d9ec0185"
   }
  }
 },
 "nbformat": 4,
 "nbformat_minor": 2
}
